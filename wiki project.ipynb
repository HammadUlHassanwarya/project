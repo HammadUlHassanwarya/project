{
 "cells": [
  {
   "cell_type": "code",
   "execution_count": 1,
   "id": "b6275f43",
   "metadata": {},
   "outputs": [],
   "source": [
    "import os\n",
    "folderpath = r\"C:\\Users\\92232\\Documents\\wiki\"\n",
    "filepaths=[os.path.join(folderpath,name) for name in os.listdir(folderpath)]\n",
    "all_files=[]\n",
    "for path in filepaths:\n",
    "    with open(path,'r',encoding=\"ISO-8859-1\") as f:\n",
    "        file = f.readlines()\n",
    "        all_files.append(file)"
   ]
  },
  {
   "cell_type": "code",
   "execution_count": 2,
   "id": "1beeda84",
   "metadata": {},
   "outputs": [
    {
     "data": {
      "text/plain": [
       "[[\"Featured articles are considered to be some of the best articles Wikipedia has to offer, as determined by Wikipedia's editors. They are used by editors as examples for writing other articles. Before being listed here, articles are reviewed as featured article candidates for accuracy, neutrality, completeness, and style according to our featured article criteria. Many featured articles were previously good articles (which are reviewed with a less restrictive set of criteria). There are 6,109 featured articles out of 6,523,685 articles on the English Wikipedia (about 0.09% or one out of every 1,060 articles). Articles that no longer meet the criteria can be proposed for improvement or removal at featured article review.\\n\",\n",
       "  '\\n',\n",
       "  'On non-mobile versions of our website, a small bronze star icon (This star symbolizes the featured content on Wikipedia.) on the top right corner of an article\\'s page indicates that the article is featured. On most smartphones and tablets you can also select \"Desktop\" at the very bottom of the page or \"Request Desktop Site\" in your browser\\'s menu to see this line (do a search to find out how). Additionally, if the current article is featured in another language, a star will appear next to the corresponding entry in the Languages list in the sidebar to let you know.']]"
      ]
     },
     "execution_count": 2,
     "metadata": {},
     "output_type": "execute_result"
    }
   ],
   "source": [
    "all_files"
   ]
  },
  {
   "cell_type": "code",
   "execution_count": 3,
   "id": "695bc109",
   "metadata": {},
   "outputs": [
    {
     "name": "stdout",
     "output_type": "stream",
     "text": [
      "1\n"
     ]
    }
   ],
   "source": [
    "sizeOfmyfiles = len(all_files)\n",
    "print(sizeOfmyfiles)"
   ]
  },
  {
   "cell_type": "code",
   "execution_count": 4,
   "id": "3df6458f",
   "metadata": {},
   "outputs": [],
   "source": [
    "listToStr = ' '.join(map(str, all_files))"
   ]
  },
  {
   "cell_type": "code",
   "execution_count": 5,
   "id": "82da9186",
   "metadata": {},
   "outputs": [
    {
     "data": {
      "text/plain": [
       "'[\"Featured articles are considered to be some of the best articles Wikipedia has to offer, as determined by Wikipedia\\'s editors. They are used by editors as examples for writing other articles. Before being listed here, articles are reviewed as featured article candidates for accuracy, neutrality, completeness, and style according to our featured article criteria. Many featured articles were previously good articles (which are reviewed with a less restrictive set of criteria). There are 6,109 featured articles out of 6,523,685 articles on the English Wikipedia (about 0.09% or one out of every 1,060 articles). Articles that no longer meet the criteria can be proposed for improvement or removal at featured article review.\\\\n\", \\'\\\\n\\', \\'On non-mobile versions of our website, a small bronze star icon (This star symbolizes the featured content on Wikipedia.) on the top right corner of an article\\\\\\'s page indicates that the article is featured. On most smartphones and tablets you can also select \"Desktop\" at the very bottom of the page or \"Request Desktop Site\" in your browser\\\\\\'s menu to see this line (do a search to find out how). Additionally, if the current article is featured in another language, a star will appear next to the corresponding entry in the Languages list in the sidebar to let you know.\\']'"
      ]
     },
     "execution_count": 5,
     "metadata": {},
     "output_type": "execute_result"
    }
   ],
   "source": [
    "listToStr"
   ]
  },
  {
   "cell_type": "code",
   "execution_count": 6,
   "id": "e245a539",
   "metadata": {},
   "outputs": [
    {
     "name": "stdout",
     "output_type": "stream",
     "text": [
      "Requirement already satisfied: nltk in c:\\users\\92322\\anaconda3\\lib\\site-packages (3.6.5)\n",
      "Requirement already satisfied: click in c:\\users\\92322\\anaconda3\\lib\\site-packages (from nltk) (8.0.3)\n",
      "Note: you may need to restart the kernel to use updated packages.\n",
      "Requirement already satisfied: joblib in c:\\users\\92322\\anaconda3\\lib\\site-packages (from nltk) (1.1.0)\n",
      "Requirement already satisfied: regex>=2021.8.3 in c:\\users\\92322\\anaconda3\\lib\\site-packages (from nltk) (2021.8.3)\n",
      "Requirement already satisfied: tqdm in c:\\users\\92322\\anaconda3\\lib\\site-packages (from nltk) (4.62.3)\n",
      "Requirement already satisfied: colorama in c:\\users\\92322\\anaconda3\\lib\\site-packages (from click->nltk) (0.4.4)\n"
     ]
    }
   ],
   "source": [
    "%pip install nltk"
   ]
  },
  {
   "cell_type": "code",
   "execution_count": 7,
   "id": "418d7917",
   "metadata": {},
   "outputs": [
    {
     "name": "stderr",
     "output_type": "stream",
     "text": [
      "[nltk_data] Downloading package stopwords to\n",
      "[nltk_data]     C:\\Users\\92322\\AppData\\Roaming\\nltk_data...\n",
      "[nltk_data]   Package stopwords is already up-to-date!\n"
     ]
    },
    {
     "data": {
      "text/plain": [
       "True"
      ]
     },
     "execution_count": 7,
     "metadata": {},
     "output_type": "execute_result"
    }
   ],
   "source": [
    "import nltk\n",
    "from nltk.corpus import stopwords\n",
    "nltk.download('stopwords')"
   ]
  },
  {
   "cell_type": "code",
   "execution_count": 9,
   "id": "812e7e9e",
   "metadata": {},
   "outputs": [],
   "source": [
    "from nltk.tokenize import word_tokenize"
   ]
  },
  {
   "cell_type": "code",
   "execution_count": 11,
   "id": "d3f734cb",
   "metadata": {},
   "outputs": [
    {
     "name": "stderr",
     "output_type": "stream",
     "text": [
      "[nltk_data] Downloading package punkt to\n",
      "[nltk_data]     C:\\Users\\92322\\AppData\\Roaming\\nltk_data...\n",
      "[nltk_data]   Unzipping tokenizers\\punkt.zip.\n"
     ]
    },
    {
     "data": {
      "text/plain": [
       "True"
      ]
     },
     "execution_count": 11,
     "metadata": {},
     "output_type": "execute_result"
    }
   ],
   "source": [
    "import nltk\n",
    "nltk.download('punkt')"
   ]
  },
  {
   "cell_type": "code",
   "execution_count": 12,
   "id": "ea26105d",
   "metadata": {},
   "outputs": [
    {
     "name": "stdout",
     "output_type": "stream",
     "text": [
      "['[', '``', 'Featured', 'articles', 'considered', 'best', 'articles', 'Wikipedia', 'offer', ',', 'determined', 'Wikipedia', \"'s\", 'editors', '.', 'They', 'used', 'editors', 'examples', 'writing', 'articles', '.', 'Before', 'listed', ',', 'articles', 'reviewed', 'featured', 'article', 'candidates', 'accuracy', ',', 'neutrality', ',', 'completeness', ',', 'style', 'according', 'featured', 'article', 'criteria', '.', 'Many', 'featured', 'articles', 'previously', 'good', 'articles', '(', 'reviewed', 'less', 'restrictive', 'set', 'criteria', ')', '.', 'There', '6,109', 'featured', 'articles', '6,523,685', 'articles', 'English', 'Wikipedia', '(', '0.09', '%', 'every', '1,060', 'articles', ')', '.', 'Articles', 'longer', 'meet', 'criteria', 'proposed', 'improvement', 'removal', 'featured', 'article', 'review.\\\\n', \"''\", ',', \"'\\\\n\", \"'\", ',', \"'On\", 'non-mobile', 'versions', 'website', ',', 'small', 'bronze', 'star', 'icon', '(', 'This', 'star', 'symbolizes', 'featured', 'content', 'Wikipedia', '.', ')', 'top', 'right', 'corner', 'article\\\\', \"'s\", 'page', 'indicates', 'article', 'featured', '.', 'On', 'smartphones', 'tablets', 'select', '``', 'Desktop', \"''\", 'bottom', 'page', '``', 'Request', 'Desktop', 'Site', \"''\", 'browser\\\\', \"'s\", 'menu', 'see', 'line', '(', 'search', 'find', ')', '.', 'Additionally', ',', 'current', 'article', 'featured', 'another', 'language', ',', 'star', 'appear', 'next', 'corresponding', 'entry', 'Languages', 'list', 'sidebar', 'let', 'know', '.', \"'\", ']']\n"
     ]
    }
   ],
   "source": [
    "text = word_tokenize(listToStr)\n",
    "data = [word for word in text if not word in stopwords.words()]\n",
    "print(data)"
   ]
  },
  {
   "cell_type": "code",
   "execution_count": 13,
   "id": "055a518a",
   "metadata": {},
   "outputs": [
    {
     "data": {
      "text/plain": [
       "['[',\n",
       " '``',\n",
       " 'Featured',\n",
       " 'articles',\n",
       " 'considered',\n",
       " 'best',\n",
       " 'articles',\n",
       " 'Wikipedia',\n",
       " 'offer',\n",
       " ',',\n",
       " 'determined',\n",
       " 'Wikipedia',\n",
       " \"'s\",\n",
       " 'editors',\n",
       " '.',\n",
       " 'They',\n",
       " 'used',\n",
       " 'editors',\n",
       " 'examples',\n",
       " 'writing',\n",
       " 'articles',\n",
       " '.',\n",
       " 'Before',\n",
       " 'listed',\n",
       " ',',\n",
       " 'articles',\n",
       " 'reviewed',\n",
       " 'featured',\n",
       " 'article',\n",
       " 'candidates',\n",
       " 'accuracy',\n",
       " ',',\n",
       " 'neutrality',\n",
       " ',',\n",
       " 'completeness',\n",
       " ',',\n",
       " 'style',\n",
       " 'according',\n",
       " 'featured',\n",
       " 'article',\n",
       " 'criteria',\n",
       " '.',\n",
       " 'Many',\n",
       " 'featured',\n",
       " 'articles',\n",
       " 'previously',\n",
       " 'good',\n",
       " 'articles',\n",
       " '(',\n",
       " 'reviewed',\n",
       " 'less',\n",
       " 'restrictive',\n",
       " 'set',\n",
       " 'criteria',\n",
       " ')',\n",
       " '.',\n",
       " 'There',\n",
       " '6,109',\n",
       " 'featured',\n",
       " 'articles',\n",
       " '6,523,685',\n",
       " 'articles',\n",
       " 'English',\n",
       " 'Wikipedia',\n",
       " '(',\n",
       " '0.09',\n",
       " '%',\n",
       " 'every',\n",
       " '1,060',\n",
       " 'articles',\n",
       " ')',\n",
       " '.',\n",
       " 'Articles',\n",
       " 'longer',\n",
       " 'meet',\n",
       " 'criteria',\n",
       " 'proposed',\n",
       " 'improvement',\n",
       " 'removal',\n",
       " 'featured',\n",
       " 'article',\n",
       " 'review.\\\\n',\n",
       " \"''\",\n",
       " ',',\n",
       " \"'\\\\n\",\n",
       " \"'\",\n",
       " ',',\n",
       " \"'On\",\n",
       " 'non-mobile',\n",
       " 'versions',\n",
       " 'website',\n",
       " ',',\n",
       " 'small',\n",
       " 'bronze',\n",
       " 'star',\n",
       " 'icon',\n",
       " '(',\n",
       " 'This',\n",
       " 'star',\n",
       " 'symbolizes',\n",
       " 'featured',\n",
       " 'content',\n",
       " 'Wikipedia',\n",
       " '.',\n",
       " ')',\n",
       " 'top',\n",
       " 'right',\n",
       " 'corner',\n",
       " 'article\\\\',\n",
       " \"'s\",\n",
       " 'page',\n",
       " 'indicates',\n",
       " 'article',\n",
       " 'featured',\n",
       " '.',\n",
       " 'On',\n",
       " 'smartphones',\n",
       " 'tablets',\n",
       " 'select',\n",
       " '``',\n",
       " 'Desktop',\n",
       " \"''\",\n",
       " 'bottom',\n",
       " 'page',\n",
       " '``',\n",
       " 'Request',\n",
       " 'Desktop',\n",
       " 'Site',\n",
       " \"''\",\n",
       " 'browser\\\\',\n",
       " \"'s\",\n",
       " 'menu',\n",
       " 'see',\n",
       " 'line',\n",
       " '(',\n",
       " 'search',\n",
       " 'find',\n",
       " ')',\n",
       " '.',\n",
       " 'Additionally',\n",
       " ',',\n",
       " 'current',\n",
       " 'article',\n",
       " 'featured',\n",
       " 'another',\n",
       " 'language',\n",
       " ',',\n",
       " 'star',\n",
       " 'appear',\n",
       " 'next',\n",
       " 'corresponding',\n",
       " 'entry',\n",
       " 'Languages',\n",
       " 'list',\n",
       " 'sidebar',\n",
       " 'let',\n",
       " 'know',\n",
       " '.',\n",
       " \"'\",\n",
       " ']']"
      ]
     },
     "execution_count": 13,
     "metadata": {},
     "output_type": "execute_result"
    }
   ],
   "source": [
    "data"
   ]
  },
  {
   "cell_type": "code",
   "execution_count": 17,
   "id": "3b078279",
   "metadata": {},
   "outputs": [
    {
     "name": "stderr",
     "output_type": "stream",
     "text": [
      "[nltk_data] Downloading package wordnet to\n",
      "[nltk_data]     C:\\Users\\92322\\AppData\\Roaming\\nltk_data...\n",
      "[nltk_data]   Unzipping corpora\\wordnet.zip.\n"
     ]
    }
   ],
   "source": [
    "import nltk\n",
    "nltk.download('wordnet')\n",
    "from nltk.stem import WordNetLemmatizer\n",
    "lemma = WordNetLemmatizer()\n",
    "lem=[]\n",
    "for r in data:\n",
    "    lem.append(lemma.lemmatize(r))"
   ]
  },
  {
   "cell_type": "code",
   "execution_count": 20,
   "id": "6a790863",
   "metadata": {},
   "outputs": [
    {
     "name": "stdout",
     "output_type": "stream",
     "text": [
      "article\n"
     ]
    }
   ],
   "source": [
    "print(lemma.lemmatize('articles'))"
   ]
  },
  {
   "cell_type": "code",
   "execution_count": 21,
   "id": "c691b830",
   "metadata": {},
   "outputs": [
    {
     "data": {
      "text/plain": [
       "['[',\n",
       " '``',\n",
       " 'Featured',\n",
       " 'article',\n",
       " 'considered',\n",
       " 'best',\n",
       " 'article',\n",
       " 'Wikipedia',\n",
       " 'offer',\n",
       " '',\n",
       " 'determined',\n",
       " 'Wikipedia',\n",
       " 's',\n",
       " 'editor',\n",
       " '',\n",
       " 'They',\n",
       " 'used',\n",
       " 'editor',\n",
       " 'example',\n",
       " 'writing',\n",
       " 'article',\n",
       " '',\n",
       " 'Before',\n",
       " 'listed',\n",
       " '',\n",
       " 'article',\n",
       " 'reviewed',\n",
       " 'featured',\n",
       " 'article',\n",
       " 'candidate',\n",
       " 'accuracy',\n",
       " '',\n",
       " 'neutrality',\n",
       " '',\n",
       " 'completeness',\n",
       " '',\n",
       " 'style',\n",
       " 'according',\n",
       " 'featured',\n",
       " 'article',\n",
       " 'criterion',\n",
       " '',\n",
       " 'Many',\n",
       " 'featured',\n",
       " 'article',\n",
       " 'previously',\n",
       " 'good',\n",
       " 'article',\n",
       " '',\n",
       " 'reviewed',\n",
       " 'le',\n",
       " 'restrictive',\n",
       " 'set',\n",
       " 'criterion',\n",
       " '',\n",
       " '',\n",
       " 'There',\n",
       " '6109',\n",
       " 'featured',\n",
       " 'article',\n",
       " '6523685',\n",
       " 'article',\n",
       " 'English',\n",
       " 'Wikipedia',\n",
       " '',\n",
       " '009',\n",
       " '',\n",
       " 'every',\n",
       " '1060',\n",
       " 'article',\n",
       " '',\n",
       " '',\n",
       " 'Articles',\n",
       " 'longer',\n",
       " 'meet',\n",
       " 'criterion',\n",
       " 'proposed',\n",
       " 'improvement',\n",
       " 'removal',\n",
       " 'featured',\n",
       " 'article',\n",
       " 'review\\\\n',\n",
       " '',\n",
       " '',\n",
       " '\\\\n',\n",
       " '',\n",
       " '',\n",
       " 'On',\n",
       " 'nonmobile',\n",
       " 'version',\n",
       " 'website',\n",
       " '',\n",
       " 'small',\n",
       " 'bronze',\n",
       " 'star',\n",
       " 'icon',\n",
       " '',\n",
       " 'This',\n",
       " 'star',\n",
       " 'symbolizes',\n",
       " 'featured',\n",
       " 'content',\n",
       " 'Wikipedia',\n",
       " '',\n",
       " '',\n",
       " 'top',\n",
       " 'right',\n",
       " 'corner',\n",
       " 'article\\\\',\n",
       " 's',\n",
       " 'page',\n",
       " 'indicates',\n",
       " 'article',\n",
       " 'featured',\n",
       " '',\n",
       " 'On',\n",
       " 'smartphones',\n",
       " 'tablet',\n",
       " 'select',\n",
       " '``',\n",
       " 'Desktop',\n",
       " '',\n",
       " 'bottom',\n",
       " 'page',\n",
       " '``',\n",
       " 'Request',\n",
       " 'Desktop',\n",
       " 'Site',\n",
       " '',\n",
       " 'browser\\\\',\n",
       " 's',\n",
       " 'menu',\n",
       " 'see',\n",
       " 'line',\n",
       " '',\n",
       " 'search',\n",
       " 'find',\n",
       " '',\n",
       " '',\n",
       " 'Additionally',\n",
       " '',\n",
       " 'current',\n",
       " 'article',\n",
       " 'featured',\n",
       " 'another',\n",
       " 'language',\n",
       " '',\n",
       " 'star',\n",
       " 'appear',\n",
       " 'next',\n",
       " 'corresponding',\n",
       " 'entry',\n",
       " 'Languages',\n",
       " 'list',\n",
       " 'sidebar',\n",
       " 'let',\n",
       " 'know',\n",
       " '',\n",
       " '',\n",
       " ']']"
      ]
     },
     "execution_count": 21,
     "metadata": {},
     "output_type": "execute_result"
    }
   ],
   "source": [
    "import re\n",
    "dataupdate= [ ]\n",
    "dataupdate=[re.sub('[^a-zA-z0-9]+', '', _) for _ in lem]\n",
    "dataupdate"
   ]
  },
  {
   "cell_type": "code",
   "execution_count": 26,
   "id": "8f241234",
   "metadata": {},
   "outputs": [
    {
     "name": "stdout",
     "output_type": "stream",
     "text": [
      "Top terms per cluster:\n",
      "Cluster 0:\n",
      " wikipedia\n",
      " criterion\n",
      " star\n",
      " reviewed\n",
      " desktop\n",
      " page\n",
      " editor\n",
      " english\n",
      " current\n",
      " determined\n",
      "Cluster 1:\n",
      " right\n",
      " writing\n",
      " corner\n",
      " criterion\n",
      " current\n",
      " desktop\n",
      " determined\n",
      " editor\n",
      " english\n",
      " entry\n",
      "Cluster 2:\n",
      " review\n",
      " languages\n",
      " corresponding\n",
      " criterion\n",
      " current\n",
      " desktop\n",
      " determined\n",
      " editor\n",
      " english\n",
      " entry\n",
      "Cluster 3:\n",
      " article\n",
      " corner\n",
      " criterion\n",
      " current\n",
      " desktop\n",
      " determined\n",
      " editor\n",
      " english\n",
      " entry\n",
      " writing\n",
      "Cluster 4:\n",
      " featured\n",
      " writing\n",
      " entry\n",
      " criterion\n",
      " current\n",
      " desktop\n",
      " determined\n",
      " editor\n",
      " english\n",
      " example\n"
     ]
    }
   ],
   "source": [
    "from sklearn.feature_extraction.text import TfidfVectorizer\n",
    "from sklearn.cluster import KMeans\n",
    "from sklearn.metrics import adjusted_rand_score\n",
    "#import warnings filter\n",
    "from warnings import simplefilter\n",
    "#ignore all future warnings\n",
    "simplefilter(action='ignore', category=FutureWarning)\n",
    "\n",
    "\n",
    "vectorizer = TfidfVectorizer(stop_words='english')\n",
    "X = vectorizer.fit_transform(dataupdate)\n",
    "\n",
    "true_k = 5\n",
    "model = KMeans(n_clusters=true_k, init='k-means++', max_iter=100, n_init=1)\n",
    "model.fit(X)\n",
    "\n",
    "print(\"Top terms per cluster:\")\n",
    "order_centroids = model.cluster_centers_.argsort()[:, ::-1]\n",
    "terms = vectorizer.get_feature_names()\n",
    "for i in range(true_k):\n",
    "    print(\"Cluster %d:\" % i),\n",
    "    for ind in order_centroids[i, :10]:\n",
    "        print(' %s' % terms[ind]),"
   ]
  },
  {
   "cell_type": "code",
   "execution_count": 28,
   "id": "8a488016",
   "metadata": {},
   "outputs": [
    {
     "name": "stdout",
     "output_type": "stream",
     "text": [
      "Guessing:\n",
      "[0]\n",
      "[0]\n"
     ]
    }
   ],
   "source": [
    "print(\"Guessing:\")\n",
    "\n",
    "Y = vectorizer.transform([\"restraint\"])\n",
    "guessing = model.predict(Y)\n",
    "print(guessing)\n",
    "\n",
    "Y = vectorizer.transform([\"claim that this central aspect of anarchism is definitive is to sell anarchism short\"])\n",
    "guessing = model.predict(Y)\n",
    "print(guessing)"
   ]
  },
  {
   "cell_type": "code",
   "execution_count": null,
   "id": "b6975888",
   "metadata": {},
   "outputs": [],
   "source": []
  }
 ],
 "metadata": {
  "kernelspec": {
   "display_name": "Python 3 (ipykernel)",
   "language": "python",
   "name": "python3"
  },
  "language_info": {
   "codemirror_mode": {
    "name": "ipython",
    "version": 3
   },
   "file_extension": ".py",
   "mimetype": "text/x-python",
   "name": "python",
   "nbconvert_exporter": "python",
   "pygments_lexer": "ipython3",
   "version": "3.9.7"
  }
 },
 "nbformat": 4,
 "nbformat_minor": 5
}
